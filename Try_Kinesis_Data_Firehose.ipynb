{
  "nbformat": 4,
  "nbformat_minor": 0,
  "metadata": {
    "colab": {
      "provenance": [],
      "authorship_tag": "ABX9TyPxW8GSQusWdZ3J4wGkglM2",
      "include_colab_link": true
    },
    "kernelspec": {
      "name": "python3",
      "display_name": "Python 3"
    },
    "language_info": {
      "name": "python"
    }
  },
  "cells": [
    {
      "cell_type": "markdown",
      "metadata": {
        "id": "view-in-github",
        "colab_type": "text"
      },
      "source": [
        "<a href=\"https://colab.research.google.com/github/ankit-rathi/DE-with-AWS/blob/main/Try_Kinesis_Data_Firehose.ipynb\" target=\"_parent\"><img src=\"https://colab.research.google.com/assets/colab-badge.svg\" alt=\"Open In Colab\"/></a>"
      ]
    },
    {
      "cell_type": "code",
      "execution_count": 1,
      "metadata": {
        "colab": {
          "base_uri": "https://localhost:8080/"
        },
        "id": "lXET83KQHniA",
        "outputId": "b6386385-a22a-483e-810f-fa0a40ceecb6"
      },
      "outputs": [
        {
          "output_type": "stream",
          "name": "stdout",
          "text": [
            "Collecting boto3\n",
            "  Downloading boto3-1.35.5-py3-none-any.whl.metadata (6.6 kB)\n",
            "Collecting botocore<1.36.0,>=1.35.5 (from boto3)\n",
            "  Downloading botocore-1.35.5-py3-none-any.whl.metadata (5.7 kB)\n",
            "Collecting jmespath<2.0.0,>=0.7.1 (from boto3)\n",
            "  Downloading jmespath-1.0.1-py3-none-any.whl.metadata (7.6 kB)\n",
            "Collecting s3transfer<0.11.0,>=0.10.0 (from boto3)\n",
            "  Downloading s3transfer-0.10.2-py3-none-any.whl.metadata (1.7 kB)\n",
            "Requirement already satisfied: python-dateutil<3.0.0,>=2.1 in /usr/local/lib/python3.10/dist-packages (from botocore<1.36.0,>=1.35.5->boto3) (2.8.2)\n",
            "Requirement already satisfied: urllib3!=2.2.0,<3,>=1.25.4 in /usr/local/lib/python3.10/dist-packages (from botocore<1.36.0,>=1.35.5->boto3) (2.0.7)\n",
            "Requirement already satisfied: six>=1.5 in /usr/local/lib/python3.10/dist-packages (from python-dateutil<3.0.0,>=2.1->botocore<1.36.0,>=1.35.5->boto3) (1.16.0)\n",
            "Downloading boto3-1.35.5-py3-none-any.whl (139 kB)\n",
            "\u001b[2K   \u001b[90m━━━━━━━━━━━━━━━━━━━━━━━━━━━━━━━━━━━━━━━━\u001b[0m \u001b[32m139.1/139.1 kB\u001b[0m \u001b[31m3.0 MB/s\u001b[0m eta \u001b[36m0:00:00\u001b[0m\n",
            "\u001b[?25hDownloading botocore-1.35.5-py3-none-any.whl (12.5 MB)\n",
            "\u001b[2K   \u001b[90m━━━━━━━━━━━━━━━━━━━━━━━━━━━━━━━━━━━━━━━━\u001b[0m \u001b[32m12.5/12.5 MB\u001b[0m \u001b[31m45.4 MB/s\u001b[0m eta \u001b[36m0:00:00\u001b[0m\n",
            "\u001b[?25hDownloading jmespath-1.0.1-py3-none-any.whl (20 kB)\n",
            "Downloading s3transfer-0.10.2-py3-none-any.whl (82 kB)\n",
            "\u001b[2K   \u001b[90m━━━━━━━━━━━━━━━━━━━━━━━━━━━━━━━━━━━━━━━━\u001b[0m \u001b[32m82.7/82.7 kB\u001b[0m \u001b[31m4.2 MB/s\u001b[0m eta \u001b[36m0:00:00\u001b[0m\n",
            "\u001b[?25hInstalling collected packages: jmespath, botocore, s3transfer, boto3\n",
            "Successfully installed boto3-1.35.5 botocore-1.35.5 jmespath-1.0.1 s3transfer-0.10.2\n"
          ]
        }
      ],
      "source": [
        "!pip install boto3"
      ]
    },
    {
      "cell_type": "code",
      "source": [
        "from google.colab import drive\n",
        "drive.mount('/content/drive')\n",
        "import os\n",
        "\n",
        "import pandas as pd\n",
        "\n",
        "project_path = '/content/drive/My Drive/Personal'\n",
        "os.chdir(project_path)"
      ],
      "metadata": {
        "colab": {
          "base_uri": "https://localhost:8080/"
        },
        "id": "D25c1LzPKnFv",
        "outputId": "c597c7c7-8447-4e39-853d-ff29c81b8537"
      },
      "execution_count": 2,
      "outputs": [
        {
          "output_type": "stream",
          "name": "stdout",
          "text": [
            "Mounted at /content/drive\n"
          ]
        }
      ]
    },
    {
      "cell_type": "code",
      "source": [
        "import boto3\n",
        "import json\n",
        "import time\n",
        "\n",
        "aws_keys_df = pd.read_csv('aws-rootkey.csv')\n",
        "\n",
        "# Replace with your actual AWS Access Key ID and Secret Access Key\n",
        "AWS_ACCESS_KEY_ID = aws_keys_df['Access_key_ID'][0]\n",
        "AWS_SECRET_ACCESS_KEY = aws_keys_df['Secret_access_key'][0]\n",
        "REGION_NAME = aws_keys_df['Region'][0]\n",
        "\n",
        "# Initialize a session using your credentials\n",
        "session = boto3.Session(\n",
        "    aws_access_key_id=AWS_ACCESS_KEY_ID,\n",
        "    aws_secret_access_key=AWS_SECRET_ACCESS_KEY,\n",
        "    region_name=REGION_NAME\n",
        ")\n",
        "\n",
        "# Create an IAM client\n",
        "iam_client = session.client('iam')\n",
        "\n",
        "# Create a Firehose client\n",
        "firehose_client = session.client('firehose')\n",
        "s3_client = session.client('s3')\n"
      ],
      "metadata": {
        "id": "E89WUSAnHv99"
      },
      "execution_count": 7,
      "outputs": []
    },
    {
      "cell_type": "code",
      "source": [
        "# Define the role name\n",
        "role_name = 'FirehoseToS3Role'\n",
        "\n",
        "# Trust relationship policy document\n",
        "trust_policy = {\n",
        "    \"Version\": \"2012-10-17\",\n",
        "    \"Statement\": [\n",
        "        {\n",
        "            \"Effect\": \"Allow\",\n",
        "            \"Principal\": {\n",
        "                \"Service\": \"firehose.amazonaws.com\"\n",
        "            },\n",
        "            \"Action\": \"sts:AssumeRole\"\n",
        "        }\n",
        "    ]\n",
        "}\n",
        "\n",
        "# Create the IAM role\n",
        "try:\n",
        "    role = iam_client.create_role(\n",
        "        RoleName=role_name,\n",
        "        AssumeRolePolicyDocument=json.dumps(trust_policy),\n",
        "        Description='IAM role for Kinesis Firehose to deliver data to S3'\n",
        "    )\n",
        "    role_arn = role['Role']['Arn']\n",
        "    print(f\"Created IAM role with ARN: {role_arn}\")\n",
        "except iam_client.exceptions.EntityAlreadyExistsException:\n",
        "    role_arn = f'arn:aws:iam::{session.client(\"sts\").get_caller_identity()[\"Account\"]}:role/{role_name}'\n",
        "    print(f\"IAM role {role_name} already exists. ARN: {role_arn}\")\n"
      ],
      "metadata": {
        "colab": {
          "base_uri": "https://localhost:8080/"
        },
        "id": "oBn3el47TIh_",
        "outputId": "e5e05b93-6cd5-481d-f81a-246f29e1fd16"
      },
      "execution_count": 8,
      "outputs": [
        {
          "output_type": "stream",
          "name": "stdout",
          "text": [
            "Created IAM role with ARN: arn:aws:iam::419441991443:role/FirehoseToS3Role\n"
          ]
        }
      ]
    },
    {
      "cell_type": "code",
      "source": [
        "# Define the bucket name\n",
        "bucket_name = 'my-bucket-rathakt'\n",
        "\n",
        "# Create the S3 bucket\n",
        "try:\n",
        "    s3_client.create_bucket(Bucket=bucket_name, CreateBucketConfiguration={'LocationConstraint': REGION_NAME})\n",
        "    print(f\"S3 bucket {bucket_name} created successfully.\")\n",
        "except s3_client.exceptions.BucketAlreadyOwnedByYou:\n",
        "    print(f\"S3 bucket {bucket_name} already exists.\")"
      ],
      "metadata": {
        "colab": {
          "base_uri": "https://localhost:8080/"
        },
        "id": "3B3pLMLKIPCD",
        "outputId": "53d4f3fc-1aaf-4bc1-ec5e-9fac83839350"
      },
      "execution_count": 9,
      "outputs": [
        {
          "output_type": "stream",
          "name": "stdout",
          "text": [
            "S3 bucket my-bucket-rathakt already exists.\n"
          ]
        }
      ]
    },
    {
      "cell_type": "code",
      "source": [
        "# Define the delivery stream name\n",
        "delivery_stream_name = 'MyFirehoseStream'\n",
        "\n",
        "# Create the Firehose delivery stream\n",
        "response = firehose_client.create_delivery_stream(\n",
        "    DeliveryStreamName=delivery_stream_name,\n",
        "    S3DestinationConfiguration={\n",
        "        'BucketARN': f'arn:aws:s3:::{bucket_name}',\n",
        "        'RoleARN': 'arn:aws:iam::419441991443:role/FirehoseToS3Role',\n",
        "        'Prefix': 'firehose-data/',\n",
        "        'BufferingHints': {\n",
        "            'SizeInMBs': 5,\n",
        "            'IntervalInSeconds': 300\n",
        "        },\n",
        "        'CompressionFormat': 'UNCOMPRESSED'\n",
        "    }\n",
        ")\n",
        "\n",
        "print(f\"Firehose delivery stream {delivery_stream_name} created successfully.\")"
      ],
      "metadata": {
        "colab": {
          "base_uri": "https://localhost:8080/"
        },
        "id": "LRq9mKUNI_al",
        "outputId": "32682da2-9446-49ab-f036-977f5e49873b"
      },
      "execution_count": 10,
      "outputs": [
        {
          "output_type": "stream",
          "name": "stdout",
          "text": [
            "Firehose delivery stream MyFirehoseStream created successfully.\n"
          ]
        }
      ]
    },
    {
      "cell_type": "code",
      "source": [
        "\n",
        "# Put records into the Firehose delivery stream\n",
        "for i in range(5):\n",
        "    data = json.dumps({'index': i, 'message': f'This is record {i}'})\n",
        "    firehose_client.put_record(\n",
        "        DeliveryStreamName=delivery_stream_name,\n",
        "        Record={'Data': data}\n",
        "    )\n",
        "    print(f\"Put record {i} into Firehose stream {delivery_stream_name}.\")\n"
      ],
      "metadata": {
        "colab": {
          "base_uri": "https://localhost:8080/"
        },
        "id": "fDwp6qJNJMGb",
        "outputId": "61811d60-53ff-4891-b2ce-aa4f09987fc3"
      },
      "execution_count": 13,
      "outputs": [
        {
          "output_type": "stream",
          "name": "stdout",
          "text": [
            "Put record 0 into Firehose stream MyFirehoseStream.\n",
            "Put record 1 into Firehose stream MyFirehoseStream.\n",
            "Put record 2 into Firehose stream MyFirehoseStream.\n",
            "Put record 3 into Firehose stream MyFirehoseStream.\n",
            "Put record 4 into Firehose stream MyFirehoseStream.\n"
          ]
        }
      ]
    },
    {
      "cell_type": "code",
      "source": [
        "# List the objects in the S3 bucket to verify data delivery\n",
        "objects = s3_client.list_objects_v2(Bucket=bucket_name, Prefix='firehose-data/')\n",
        "if 'Contents' in objects:\n",
        "    for obj in objects['Contents']:\n",
        "        print(f\"Found object {obj['Key']} in S3 bucket {bucket_name}.\")\n",
        "else:\n",
        "    print(f\"No objects found in S3 bucket {bucket_name} yet.\")\n"
      ],
      "metadata": {
        "colab": {
          "base_uri": "https://localhost:8080/"
        },
        "id": "TtbGEMvZJQKE",
        "outputId": "d068f4b4-f436-4301-d24d-40348d0f92d6"
      },
      "execution_count": 17,
      "outputs": [
        {
          "output_type": "stream",
          "name": "stdout",
          "text": [
            "No objects found in S3 bucket my-bucket-rathakt yet.\n"
          ]
        }
      ]
    },
    {
      "cell_type": "code",
      "source": [
        "# Delete the Firehose delivery stream\n",
        "firehose_client.delete_delivery_stream(DeliveryStreamName=delivery_stream_name, AllowForceDelete=True)\n",
        "print(f\"Firehose delivery stream {delivery_stream_name} deleted.\")\n",
        "\n",
        "# Delete the S3 bucket\n",
        "s3_client.delete_bucket(Bucket=bucket_name)\n",
        "print(f\"S3 bucket {bucket_name} deleted.\")\n"
      ],
      "metadata": {
        "colab": {
          "base_uri": "https://localhost:8080/"
        },
        "id": "doHDJY1TJek_",
        "outputId": "b3a68f92-6a37-439e-a33b-eb4635584c61"
      },
      "execution_count": 18,
      "outputs": [
        {
          "output_type": "stream",
          "name": "stdout",
          "text": [
            "Firehose delivery stream MyFirehoseStream deleted.\n",
            "S3 bucket my-bucket-rathakt deleted.\n"
          ]
        }
      ]
    }
  ]
}