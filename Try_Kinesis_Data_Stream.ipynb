{
  "nbformat": 4,
  "nbformat_minor": 0,
  "metadata": {
    "colab": {
      "provenance": [],
      "authorship_tag": "ABX9TyP69MYZqEjaj3bBOf29Z5eR",
      "include_colab_link": true
    },
    "kernelspec": {
      "name": "python3",
      "display_name": "Python 3"
    },
    "language_info": {
      "name": "python"
    }
  },
  "cells": [
    {
      "cell_type": "markdown",
      "metadata": {
        "id": "view-in-github",
        "colab_type": "text"
      },
      "source": [
        "<a href=\"https://colab.research.google.com/github/ankit-rathi/DE-with-AWS/blob/main/Try_Kinesis_Data_Stream.ipynb\" target=\"_parent\"><img src=\"https://colab.research.google.com/assets/colab-badge.svg\" alt=\"Open In Colab\"/></a>"
      ]
    },
    {
      "cell_type": "code",
      "execution_count": 17,
      "metadata": {
        "colab": {
          "base_uri": "https://localhost:8080/"
        },
        "id": "lXET83KQHniA",
        "outputId": "8f940fcb-e0bc-47c8-a17e-412510617127"
      },
      "outputs": [
        {
          "output_type": "stream",
          "name": "stdout",
          "text": [
            "Requirement already satisfied: boto3 in /usr/local/lib/python3.10/dist-packages (1.35.5)\n",
            "Requirement already satisfied: botocore<1.36.0,>=1.35.5 in /usr/local/lib/python3.10/dist-packages (from boto3) (1.35.5)\n",
            "Requirement already satisfied: jmespath<2.0.0,>=0.7.1 in /usr/local/lib/python3.10/dist-packages (from boto3) (1.0.1)\n",
            "Requirement already satisfied: s3transfer<0.11.0,>=0.10.0 in /usr/local/lib/python3.10/dist-packages (from boto3) (0.10.2)\n",
            "Requirement already satisfied: python-dateutil<3.0.0,>=2.1 in /usr/local/lib/python3.10/dist-packages (from botocore<1.36.0,>=1.35.5->boto3) (2.8.2)\n",
            "Requirement already satisfied: urllib3!=2.2.0,<3,>=1.25.4 in /usr/local/lib/python3.10/dist-packages (from botocore<1.36.0,>=1.35.5->boto3) (2.0.7)\n",
            "Requirement already satisfied: six>=1.5 in /usr/local/lib/python3.10/dist-packages (from python-dateutil<3.0.0,>=2.1->botocore<1.36.0,>=1.35.5->boto3) (1.16.0)\n"
          ]
        }
      ],
      "source": [
        "!pip install boto3"
      ]
    },
    {
      "cell_type": "code",
      "source": [
        "from google.colab import drive\n",
        "drive.mount('/content/drive')\n",
        "import os\n",
        "\n",
        "import pandas as pd\n",
        "\n",
        "project_path = '/content/drive/My Drive/Personal'\n",
        "os.chdir(project_path)"
      ],
      "metadata": {
        "colab": {
          "base_uri": "https://localhost:8080/"
        },
        "id": "D25c1LzPKnFv",
        "outputId": "8898cc63-7a35-4aff-d3c1-90732d4b3ba7"
      },
      "execution_count": 18,
      "outputs": [
        {
          "output_type": "stream",
          "name": "stdout",
          "text": [
            "Drive already mounted at /content/drive; to attempt to forcibly remount, call drive.mount(\"/content/drive\", force_remount=True).\n"
          ]
        }
      ]
    },
    {
      "cell_type": "code",
      "source": [
        "aws_keys_df = pd.read_csv('aws-rootkey.csv')"
      ],
      "metadata": {
        "id": "MxWQBDBuKsPr"
      },
      "execution_count": 19,
      "outputs": []
    },
    {
      "cell_type": "code",
      "source": [
        "import boto3\n",
        "import json\n",
        "import time\n",
        "\n",
        "# Replace with your actual AWS Access Key ID and Secret Access Key\n",
        "AWS_ACCESS_KEY_ID = aws_keys_df['Access_key_ID'][0]\n",
        "AWS_SECRET_ACCESS_KEY = aws_keys_df['Secret_access_key'][0]\n",
        "REGION_NAME = aws_keys_df['Region'][0]\n",
        "\n",
        "# Initialize a session using your credentials\n",
        "session = boto3.Session(\n",
        "    aws_access_key_id=AWS_ACCESS_KEY_ID,\n",
        "    aws_secret_access_key=AWS_SECRET_ACCESS_KEY,\n",
        "    region_name=REGION_NAME\n",
        ")\n",
        "\n",
        "# Create clients for different AWS services\n",
        "kinesis = session.client('kinesis')"
      ],
      "metadata": {
        "id": "E89WUSAnHv99"
      },
      "execution_count": 20,
      "outputs": []
    },
    {
      "cell_type": "code",
      "source": [
        "# Define the stream name and shard count\n",
        "stream_name = 'MyKinesisStream'\n",
        "shard_count = 1\n",
        "\n",
        "# Create a Kinesis stream\n",
        "try:\n",
        "    kinesis.create_stream(StreamName=stream_name, ShardCount=shard_count)\n",
        "    print(f\"Stream {stream_name} created successfully.\")\n",
        "except kinesis.exceptions.ResourceInUseException:\n",
        "    print(f\"Stream {stream_name} already exists.\")\n"
      ],
      "metadata": {
        "colab": {
          "base_uri": "https://localhost:8080/"
        },
        "id": "3B3pLMLKIPCD",
        "outputId": "d446abb9-9546-4021-8fa2-92fa05ef4cbb"
      },
      "execution_count": 21,
      "outputs": [
        {
          "output_type": "stream",
          "name": "stdout",
          "text": [
            "Stream MyKinesisStream created successfully.\n"
          ]
        }
      ]
    },
    {
      "cell_type": "code",
      "source": [
        "# Wait for the stream to be active\n",
        "while True:\n",
        "    response = kinesis.describe_stream(StreamName=stream_name)\n",
        "    stream_status = response['StreamDescription']['StreamStatus']\n",
        "    if stream_status == 'ACTIVE':\n",
        "        print(f\"Stream {stream_name} is active and ready.\")\n",
        "        break\n",
        "    time.sleep(2)"
      ],
      "metadata": {
        "colab": {
          "base_uri": "https://localhost:8080/"
        },
        "id": "LRq9mKUNI_al",
        "outputId": "2824f2aa-e75f-45b8-9851-b11a45614715"
      },
      "execution_count": 22,
      "outputs": [
        {
          "output_type": "stream",
          "name": "stdout",
          "text": [
            "Stream MyKinesisStream is active and ready.\n"
          ]
        }
      ]
    },
    {
      "cell_type": "code",
      "source": [
        "# Put records into the stream\n",
        "for i in range(5):\n",
        "    data = json.dumps({'index': i, 'message': f'This is record {i}'})\n",
        "    partition_key = str(i)\n",
        "    kinesis.put_record(\n",
        "        StreamName=stream_name,\n",
        "        Data=data,\n",
        "        PartitionKey=partition_key\n",
        "    )\n",
        "    print(f\"Put record {i} into stream {stream_name}.\")"
      ],
      "metadata": {
        "colab": {
          "base_uri": "https://localhost:8080/"
        },
        "id": "fDwp6qJNJMGb",
        "outputId": "38e24926-cced-4ddf-ebfc-fb2c98d1ae8c"
      },
      "execution_count": 23,
      "outputs": [
        {
          "output_type": "stream",
          "name": "stdout",
          "text": [
            "Put record 0 into stream MyKinesisStream.\n",
            "Put record 1 into stream MyKinesisStream.\n",
            "Put record 2 into stream MyKinesisStream.\n",
            "Put record 3 into stream MyKinesisStream.\n",
            "Put record 4 into stream MyKinesisStream.\n"
          ]
        }
      ]
    },
    {
      "cell_type": "code",
      "source": [
        "# Get shard iterator\n",
        "response = kinesis.describe_stream(StreamName=stream_name)\n",
        "shard_id = response['StreamDescription']['Shards'][0]['ShardId']\n",
        "\n",
        "shard_iterator_response = kinesis.get_shard_iterator(\n",
        "    StreamName=stream_name,\n",
        "    ShardId=shard_id,\n",
        "    ShardIteratorType='TRIM_HORIZON'\n",
        ")\n",
        "shard_iterator = shard_iterator_response['ShardIterator']\n",
        "\n",
        "# Read records from the stream\n",
        "record_response = kinesis.get_records(ShardIterator=shard_iterator, Limit=2)\n",
        "records = record_response['Records']\n",
        "\n",
        "while 'NextShardIterator' in record_response:\n",
        "    record_response = kinesis.get_records(ShardIterator=record_response['NextShardIterator'], Limit=2)\n",
        "    records.extend(record_response['Records'])\n",
        "    if len(record_response['Records']) == 0:\n",
        "        break\n",
        "\n",
        "# Print out the records\n",
        "for record in records:\n",
        "    print(record['Data'].decode('utf-8'))\n"
      ],
      "metadata": {
        "colab": {
          "base_uri": "https://localhost:8080/"
        },
        "id": "TtbGEMvZJQKE",
        "outputId": "a48e3bc2-a947-4b31-d13e-15ac45b9aa52"
      },
      "execution_count": 24,
      "outputs": [
        {
          "output_type": "stream",
          "name": "stdout",
          "text": [
            "{\"index\": 0, \"message\": \"This is record 0\"}\n",
            "{\"index\": 1, \"message\": \"This is record 1\"}\n",
            "{\"index\": 2, \"message\": \"This is record 2\"}\n",
            "{\"index\": 3, \"message\": \"This is record 3\"}\n",
            "{\"index\": 4, \"message\": \"This is record 4\"}\n"
          ]
        }
      ]
    },
    {
      "cell_type": "code",
      "source": [
        "# Delete the Kinesis stream\n",
        "kinesis.delete_stream(StreamName=stream_name, EnforceConsumerDeletion=True)\n",
        "print(f\"Stream {stream_name} deleted.\")"
      ],
      "metadata": {
        "colab": {
          "base_uri": "https://localhost:8080/"
        },
        "id": "doHDJY1TJek_",
        "outputId": "281c2e63-217d-45b7-cb5a-5809a03cb643"
      },
      "execution_count": 25,
      "outputs": [
        {
          "output_type": "stream",
          "name": "stdout",
          "text": [
            "Stream MyKinesisStream deleted.\n"
          ]
        }
      ]
    }
  ]
}