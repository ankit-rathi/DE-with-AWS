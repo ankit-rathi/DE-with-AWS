{
  "nbformat": 4,
  "nbformat_minor": 0,
  "metadata": {
    "colab": {
      "provenance": [],
      "authorship_tag": "ABX9TyOf1vRv8yVvarceI2lcPs9o",
      "include_colab_link": true
    },
    "kernelspec": {
      "name": "python3",
      "display_name": "Python 3"
    },
    "language_info": {
      "name": "python"
    }
  },
  "cells": [
    {
      "cell_type": "markdown",
      "metadata": {
        "id": "view-in-github",
        "colab_type": "text"
      },
      "source": [
        "<a href=\"https://colab.research.google.com/github/ankit-rathi/DE-with-AWS/blob/main/Try_AWS_Glue_with_Crawler.ipynb\" target=\"_parent\"><img src=\"https://colab.research.google.com/assets/colab-badge.svg\" alt=\"Open In Colab\"/></a>"
      ]
    },
    {
      "cell_type": "code",
      "execution_count": 1,
      "metadata": {
        "colab": {
          "base_uri": "https://localhost:8080/"
        },
        "id": "lXET83KQHniA",
        "outputId": "048f2cfc-1744-4613-a9a2-9a2cdcef9aff"
      },
      "outputs": [
        {
          "output_type": "stream",
          "name": "stdout",
          "text": [
            "Collecting boto3\n",
            "  Downloading boto3-1.35.5-py3-none-any.whl.metadata (6.6 kB)\n",
            "Collecting botocore<1.36.0,>=1.35.5 (from boto3)\n",
            "  Downloading botocore-1.35.5-py3-none-any.whl.metadata (5.7 kB)\n",
            "Collecting jmespath<2.0.0,>=0.7.1 (from boto3)\n",
            "  Downloading jmespath-1.0.1-py3-none-any.whl.metadata (7.6 kB)\n",
            "Collecting s3transfer<0.11.0,>=0.10.0 (from boto3)\n",
            "  Downloading s3transfer-0.10.2-py3-none-any.whl.metadata (1.7 kB)\n",
            "Requirement already satisfied: python-dateutil<3.0.0,>=2.1 in /usr/local/lib/python3.10/dist-packages (from botocore<1.36.0,>=1.35.5->boto3) (2.8.2)\n",
            "Requirement already satisfied: urllib3!=2.2.0,<3,>=1.25.4 in /usr/local/lib/python3.10/dist-packages (from botocore<1.36.0,>=1.35.5->boto3) (2.0.7)\n",
            "Requirement already satisfied: six>=1.5 in /usr/local/lib/python3.10/dist-packages (from python-dateutil<3.0.0,>=2.1->botocore<1.36.0,>=1.35.5->boto3) (1.16.0)\n",
            "Downloading boto3-1.35.5-py3-none-any.whl (139 kB)\n",
            "\u001b[2K   \u001b[90m━━━━━━━━━━━━━━━━━━━━━━━━━━━━━━━━━━━━━━━━\u001b[0m \u001b[32m139.1/139.1 kB\u001b[0m \u001b[31m3.4 MB/s\u001b[0m eta \u001b[36m0:00:00\u001b[0m\n",
            "\u001b[?25hDownloading botocore-1.35.5-py3-none-any.whl (12.5 MB)\n",
            "\u001b[2K   \u001b[90m━━━━━━━━━━━━━━━━━━━━━━━━━━━━━━━━━━━━━━━━\u001b[0m \u001b[32m12.5/12.5 MB\u001b[0m \u001b[31m69.4 MB/s\u001b[0m eta \u001b[36m0:00:00\u001b[0m\n",
            "\u001b[?25hDownloading jmespath-1.0.1-py3-none-any.whl (20 kB)\n",
            "Downloading s3transfer-0.10.2-py3-none-any.whl (82 kB)\n",
            "\u001b[2K   \u001b[90m━━━━━━━━━━━━━━━━━━━━━━━━━━━━━━━━━━━━━━━━\u001b[0m \u001b[32m82.7/82.7 kB\u001b[0m \u001b[31m3.1 MB/s\u001b[0m eta \u001b[36m0:00:00\u001b[0m\n",
            "\u001b[?25hInstalling collected packages: jmespath, botocore, s3transfer, boto3\n",
            "Successfully installed boto3-1.35.5 botocore-1.35.5 jmespath-1.0.1 s3transfer-0.10.2\n"
          ]
        }
      ],
      "source": [
        "!pip install boto3"
      ]
    },
    {
      "cell_type": "code",
      "source": [
        "from google.colab import drive\n",
        "drive.mount('/content/drive')\n",
        "import os\n",
        "\n",
        "import pandas as pd\n",
        "\n",
        "project_path = '/content/drive/My Drive/Personal'\n",
        "os.chdir(project_path)"
      ],
      "metadata": {
        "colab": {
          "base_uri": "https://localhost:8080/"
        },
        "id": "D25c1LzPKnFv",
        "outputId": "19c4253a-2003-4c8e-8161-e6c856e89881"
      },
      "execution_count": 2,
      "outputs": [
        {
          "output_type": "stream",
          "name": "stdout",
          "text": [
            "Mounted at /content/drive\n"
          ]
        }
      ]
    },
    {
      "cell_type": "code",
      "source": [
        "import boto3\n",
        "import json\n",
        "import time\n",
        "\n",
        "aws_keys_df = pd.read_csv('aws-rootkey.csv')\n",
        "\n",
        "# Replace with your actual AWS Access Key ID and Secret Access Key\n",
        "AWS_ACCESS_KEY_ID = aws_keys_df['Access_key_ID'][0]\n",
        "AWS_SECRET_ACCESS_KEY = aws_keys_df['Secret_access_key'][0]\n",
        "REGION_NAME = aws_keys_df['Region'][0]\n",
        "\n",
        "# Initialize a session using your credentials\n",
        "session = boto3.Session(\n",
        "    aws_access_key_id=AWS_ACCESS_KEY_ID,\n",
        "    aws_secret_access_key=AWS_SECRET_ACCESS_KEY,\n",
        "    region_name=REGION_NAME\n",
        ")\n",
        "\n",
        "# Create clients for S3, Glue, and IAM\n",
        "s3_client = session.client('s3')\n",
        "glue_client = session.client('glue')\n",
        "iam_client = session.client('iam')\n"
      ],
      "metadata": {
        "id": "E89WUSAnHv99"
      },
      "execution_count": 3,
      "outputs": []
    },
    {
      "cell_type": "code",
      "source": [
        "# Define the bucket name\n",
        "bucket_name = 'my-glue-bucket-rathakt'  # Replace with a unique name\n",
        "\n",
        "# Create the S3 bucket\n",
        "try:\n",
        "    s3_client.create_bucket(\n",
        "        Bucket=bucket_name,\n",
        "        CreateBucketConfiguration={'LocationConstraint': REGION_NAME}\n",
        "    )\n",
        "    print(f\"S3 bucket '{bucket_name}' created successfully.\")\n",
        "except ClientError as e:\n",
        "    print(f\"Error creating S3 bucket: {e}\")\n"
      ],
      "metadata": {
        "colab": {
          "base_uri": "https://localhost:8080/"
        },
        "id": "oBn3el47TIh_",
        "outputId": "49309e1e-dc3e-4a17-9b81-5c76c13be5fd"
      },
      "execution_count": 4,
      "outputs": [
        {
          "output_type": "stream",
          "name": "stdout",
          "text": [
            "S3 bucket 'my-glue-bucket-rathakt' created successfully.\n"
          ]
        }
      ]
    },
    {
      "cell_type": "code",
      "source": [
        "import pandas as pd\n",
        "\n",
        "# Create a sample DataFrame and save it as CSV\n",
        "df = pd.DataFrame({\n",
        "    'id': [1, 2, 3],\n",
        "    'value': ['a', 'b', 'c']\n",
        "})\n",
        "csv_file_path = '/tmp/sample_data.csv'\n",
        "df.to_csv(csv_file_path, index=False)\n",
        "\n",
        "# Upload CSV to S3\n",
        "s3_client.upload_file(csv_file_path, bucket_name, 'sample_data/sample_data.csv')\n",
        "print(\"CSV file uploaded to S3.\")\n",
        "\n",
        "# Create a simple ETL script\n",
        "etl_script = \"\"\"\n",
        "import sys\n",
        "import boto3\n",
        "import pandas as pd\n",
        "from io import StringIO\n",
        "\n",
        "def transform_data():\n",
        "    s3_client = boto3.client('s3')\n",
        "    bucket = '\"\"\" + bucket_name + \"\"\"'\n",
        "    key = 'sample_data/sample_data.csv'\n",
        "\n",
        "    obj = s3_client.get_object(Bucket=bucket, Key=key)\n",
        "    df = pd.read_csv(obj['Body'])\n",
        "\n",
        "    # Example transformation: Convert 'value' column to uppercase\n",
        "    df['value'] = df['value'].str.upper()\n",
        "\n",
        "    # Save the transformed data to a new file\n",
        "    csv_buffer = StringIO()\n",
        "    df.to_csv(csv_buffer, index=False)\n",
        "    s3_client.put_object(Bucket=bucket, Key='sample_data/transformed_data.csv', Body=csv_buffer.getvalue())\n",
        "\n",
        "if __name__ == \"__main__\":\n",
        "    transform_data()\n",
        "\"\"\"\n",
        "\n",
        "# Save the ETL script to a file and upload it to S3\n",
        "script_file_path = '/tmp/etl_script.py'\n",
        "with open(script_file_path, 'w') as file:\n",
        "    file.write(etl_script)\n",
        "\n",
        "s3_client.upload_file(script_file_path, bucket_name, 'scripts/etl_script.py')\n",
        "print(\"ETL script uploaded to S3.\")\n"
      ],
      "metadata": {
        "colab": {
          "base_uri": "https://localhost:8080/"
        },
        "id": "3B3pLMLKIPCD",
        "outputId": "e854e384-bbe0-42dc-fae4-493105f9f9fc"
      },
      "execution_count": 5,
      "outputs": [
        {
          "output_type": "stream",
          "name": "stdout",
          "text": [
            "CSV file uploaded to S3.\n",
            "ETL script uploaded to S3.\n"
          ]
        }
      ]
    },
    {
      "cell_type": "code",
      "source": [
        "# Define the role name\n",
        "role_name = 'GlueToS3Role'\n",
        "\n",
        "# Trust relationship policy document\n",
        "trust_policy = {\n",
        "    \"Version\": \"2012-10-17\",\n",
        "    \"Statement\": [\n",
        "        {\n",
        "            \"Effect\": \"Allow\",\n",
        "            \"Principal\": {\n",
        "                \"Service\": \"glue.amazonaws.com\"\n",
        "            },\n",
        "            \"Action\": \"sts:AssumeRole\"\n",
        "        }\n",
        "    ]\n",
        "}\n",
        "\n",
        "# Create the IAM role\n",
        "try:\n",
        "    role = iam_client.create_role(\n",
        "        RoleName=role_name,\n",
        "        AssumeRolePolicyDocument=json.dumps(trust_policy),\n",
        "        Description='IAM role for AWS Glue to access S3'\n",
        "    )\n",
        "    role_arn = role['Role']['Arn']\n",
        "    print(f\"Created IAM role with ARN: {role_arn}\")\n",
        "except ClientError as e:\n",
        "    if 'EntityAlreadyExistsException' in str(e):\n",
        "        role_arn = f'arn:aws:iam::{session.client(\"sts\").get_caller_identity()[\"Account\"]}:role/{role_name}'\n",
        "        print(f\"IAM role '{role_name}' already exists. ARN: {role_arn}\")\n",
        "    else:\n",
        "        print(f\"Error creating IAM role: {e}\")\n",
        "\n",
        "# Attach a policy to the role that grants access to the S3 bucket\n",
        "policy = {\n",
        "    \"Version\": \"2012-10-17\",\n",
        "    \"Statement\": [\n",
        "        {\n",
        "            \"Effect\": \"Allow\",\n",
        "            \"Action\": [\"s3:GetObject\", \"s3:PutObject\"],\n",
        "            \"Resource\": f\"arn:aws:s3:::{bucket_name}/*\"\n",
        "        }\n",
        "    ]\n",
        "}\n",
        "\n",
        "# Attach the policy to the role\n",
        "iam_client.put_role_policy(\n",
        "    RoleName=role_name,\n",
        "    PolicyName='GlueS3AccessPolicy',\n",
        "    PolicyDocument=json.dumps(policy)\n",
        ")\n",
        "print(\"Attached policy to IAM role.\")\n"
      ],
      "metadata": {
        "colab": {
          "base_uri": "https://localhost:8080/"
        },
        "id": "LRq9mKUNI_al",
        "outputId": "bf57dc6b-0d7c-46be-82ea-bd47d5227d08"
      },
      "execution_count": 6,
      "outputs": [
        {
          "output_type": "stream",
          "name": "stdout",
          "text": [
            "Created IAM role with ARN: arn:aws:iam::419441991443:role/GlueToS3Role\n",
            "Attached policy to IAM role.\n"
          ]
        }
      ]
    },
    {
      "cell_type": "code",
      "source": [
        "# Define the crawler name and S3 target\n",
        "crawler_name = 'my_glue_crawler'\n",
        "\n",
        "# Create the Glue crawler\n",
        "try:\n",
        "    glue_client.create_crawler(\n",
        "        Name=crawler_name,\n",
        "        Role=role_arn,\n",
        "        DatabaseName='my_glue_database',\n",
        "        Targets={'S3Targets': [{'Path': f's3://{bucket_name}/sample_data/'}]},\n",
        "        TablePrefix='my_'\n",
        "    )\n",
        "    print(f\"Crawler '{crawler_name}' created successfully.\")\n",
        "except ClientError as e:\n",
        "    if 'AlreadyExistsException' in str(e):\n",
        "        print(f\"Crawler '{crawler_name}' already exists.\")\n",
        "    else:\n",
        "        print(f\"Error creating Glue crawler: {e}\")\n"
      ],
      "metadata": {
        "colab": {
          "base_uri": "https://localhost:8080/"
        },
        "id": "TtbGEMvZJQKE",
        "outputId": "bdb1f1d1-9bde-4cbe-9e97-7cb96cb974bf"
      },
      "execution_count": 7,
      "outputs": [
        {
          "output_type": "stream",
          "name": "stdout",
          "text": [
            "Crawler 'my_glue_crawler' created successfully.\n"
          ]
        }
      ]
    },
    {
      "cell_type": "code",
      "source": [
        "# Start the crawler\n",
        "glue_client.start_crawler(Name=crawler_name)\n",
        "\n",
        "# Check the crawler status\n",
        "while True:\n",
        "    status = glue_client.get_crawler(Name=crawler_name)['Crawler']['State']\n",
        "    print(f\"Crawler status: {status}\")\n",
        "    if status == 'READY':\n",
        "        break\n",
        "    time.sleep(10)\n",
        "\n",
        "print(\"Crawler run completed. Data is now cataloged.\")\n"
      ],
      "metadata": {
        "colab": {
          "base_uri": "https://localhost:8080/"
        },
        "id": "doHDJY1TJek_",
        "outputId": "d01b57ec-5975-4466-ea28-d369b1ea7c07"
      },
      "execution_count": 8,
      "outputs": [
        {
          "output_type": "stream",
          "name": "stdout",
          "text": [
            "Crawler status: RUNNING\n",
            "Crawler status: RUNNING\n",
            "Crawler status: RUNNING\n",
            "Crawler status: RUNNING\n",
            "Crawler status: RUNNING\n",
            "Crawler status: RUNNING\n",
            "Crawler status: RUNNING\n",
            "Crawler status: STOPPING\n",
            "Crawler status: STOPPING\n",
            "Crawler status: STOPPING\n",
            "Crawler status: STOPPING\n",
            "Crawler status: STOPPING\n",
            "Crawler status: STOPPING\n",
            "Crawler status: STOPPING\n",
            "Crawler status: READY\n",
            "Crawler run completed. Data is now cataloged.\n"
          ]
        }
      ]
    },
    {
      "cell_type": "code",
      "source": [
        "# Define the job name and script location\n",
        "job_name = 'my_glue_job'\n",
        "script_location = f's3://{bucket_name}/scripts/etl_script.py'\n",
        "\n",
        "# Create the Glue job\n",
        "try:\n",
        "    glue_client.create_job(\n",
        "        Name=job_name,\n",
        "        Role=role_arn,\n",
        "        ExecutionProperty={'MaxConcurrentRuns': 1},\n",
        "        Command={\n",
        "            'Name': 'glueetl',\n",
        "            'ScriptLocation': script_location,\n",
        "            'PythonVersion': '3'\n",
        "        },\n",
        "        DefaultArguments={\n",
        "            '--TempDir': f's3://{bucket_name}/temp/',\n",
        "            '--job-bookmark-option': 'job-bookmark-enable'\n",
        "        },\n",
        "        MaxRetries=0\n",
        "    )\n",
        "    print(f\"Glue job '{job_name}' created successfully.\")\n",
        "except ClientError as e:\n",
        "    if 'AlreadyExistsException' in str(e):\n",
        "        print(f\"Glue job '{job_name}' already exists.\")\n",
        "    else:\n",
        "        print(f\"Error creating Glue job: {e}\")\n"
      ],
      "metadata": {
        "colab": {
          "base_uri": "https://localhost:8080/"
        },
        "id": "_SqB_1ICo_VK",
        "outputId": "83490dec-048d-4a85-9da4-c065c6267744"
      },
      "execution_count": 9,
      "outputs": [
        {
          "output_type": "stream",
          "name": "stdout",
          "text": [
            "Glue job 'my_glue_job' created successfully.\n"
          ]
        }
      ]
    },
    {
      "cell_type": "code",
      "source": [
        "# Start the Glue job\n",
        "job_run_id = glue_client.start_job_run(JobName=job_name)['JobRunId']\n",
        "print(f\"Started Glue job '{job_name}' with run ID: {job_run_id}\")\n",
        "\n",
        "# Check the job status\n",
        "while True:\n",
        "    job_status = glue_client.get_job_run(JobName=job_name, RunId=job_run_id)['JobRun']['JobRunState']\n",
        "    print(f\"Job status: {job_status}\")\n",
        "    if job_status in ['SUCCEEDED', 'FAILED', 'STOPPED']:\n",
        "        break\n",
        "    time.sleep(30)\n",
        "\n",
        "print(f\"Glue job '{job_name}' completed with status: {job_status}\")\n"
      ],
      "metadata": {
        "colab": {
          "base_uri": "https://localhost:8080/"
        },
        "id": "4YfUiPdnpCNy",
        "outputId": "9abaa365-209c-4431-9d50-0ed45b00a801"
      },
      "execution_count": 10,
      "outputs": [
        {
          "output_type": "stream",
          "name": "stdout",
          "text": [
            "Started Glue job 'my_glue_job' with run ID: jr_88e440e20cc9cbf83a484065f29a967e7f60b8446a859eb75b3694a2767d2611\n",
            "Job status: RUNNING\n",
            "Job status: RUNNING\n",
            "Job status: SUCCEEDED\n",
            "Glue job 'my_glue_job' completed with status: SUCCEEDED\n"
          ]
        }
      ]
    },
    {
      "cell_type": "code",
      "source": [
        "# Delete the Glue job\n",
        "try:\n",
        "    glue_client.delete_job(JobName=job_name)\n",
        "    print(f\"Deleted Glue job '{job_name}'\")\n",
        "except glue_client.exceptions.EntityNotFoundException:\n",
        "    print(f\"Glue job '{job_name}' does not exist.\")\n",
        "\n",
        "# Delete the Glue crawler\n",
        "try:\n",
        "    glue_client.delete_crawler(Name=crawler_name)\n",
        "    print(f\"Deleted Glue crawler '{crawler_name}'\")\n",
        "except glue_client.exceptions.EntityNotFoundException:\n",
        "    print(f\"Glue crawler '{crawler_name}' does not exist.\")\n",
        "\n",
        "# Delete the policy attached to the IAM role\n",
        "try:\n",
        "    iam_client.delete_role_policy(\n",
        "        RoleName=role_name,\n",
        "        PolicyName='GlueS3AccessPolicy'\n",
        "    )\n",
        "    print(f\"Deleted policy from IAM role '{role_name}'\")\n",
        "except iam_client.exceptions.NoSuchEntityException:\n",
        "    print(f\"Policy for IAM role '{role_name}' does not exist.\")\n",
        "\n",
        "# Delete the IAM role\n",
        "try:\n",
        "    iam_client.delete_role(RoleName=role_name)\n",
        "    print(f\"Deleted IAM role '{role_name}'\")\n",
        "except iam_client.exceptions.NoSuchEntityException:\n",
        "    print(f\"IAM role '{role_name}' does not exist.\")\n",
        "\n",
        "# List and delete objects in the bucket\n",
        "objects = s3_client.list_objects_v2(Bucket=bucket_name).get('Contents', [])\n",
        "for obj in objects:\n",
        "    s3_client.delete_object(Bucket=bucket_name, Key=obj['Key'])\n",
        "    print(f\"Deleted object '{obj['Key']}' from S3 bucket '{bucket_name}'\")\n",
        "\n",
        "# Delete the S3 bucket\n",
        "try:\n",
        "    s3_client.delete_bucket(Bucket=bucket_name)\n",
        "    print(f\"Deleted S3 bucket '{bucket_name}'\")\n",
        "except ClientError as e:\n",
        "    print(f\"Error deleting S3 bucket '{bucket_name}': {e}\")\n",
        "\n"
      ],
      "metadata": {
        "colab": {
          "base_uri": "https://localhost:8080/"
        },
        "id": "cBmYNJr5pSvB",
        "outputId": "00b4ef82-7d37-46b6-cc6e-f86ff032c2f5"
      },
      "execution_count": 11,
      "outputs": [
        {
          "output_type": "stream",
          "name": "stdout",
          "text": [
            "Deleted Glue job 'my_glue_job'\n",
            "Deleted Glue crawler 'my_glue_crawler'\n",
            "Deleted policy from IAM role 'GlueToS3Role'\n",
            "Deleted IAM role 'GlueToS3Role'\n",
            "Deleted object 'sample_data/sample_data.csv' from S3 bucket 'my-glue-bucket-rathakt'\n",
            "Deleted object 'sample_data/transformed_data.csv' from S3 bucket 'my-glue-bucket-rathakt'\n",
            "Deleted object 'scripts/etl_script.py' from S3 bucket 'my-glue-bucket-rathakt'\n",
            "Deleted S3 bucket 'my-glue-bucket-rathakt'\n"
          ]
        }
      ]
    }
  ]
}